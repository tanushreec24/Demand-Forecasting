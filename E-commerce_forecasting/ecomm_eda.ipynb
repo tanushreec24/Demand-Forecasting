{
 "cells": [
  {
   "attachments": {},
   "cell_type": "markdown",
   "id": "8453bc8d",
   "metadata": {},
   "source": [
    "# Notebook for cleanning, EDA, and Model Development\n",
    "---\n",
    "*By Patcharanat P.*"
   ]
  },
  {
   "attachments": {},
   "cell_type": "markdown",
   "id": "88e5b8b0",
   "metadata": {},
   "source": [
    "## Load Data"
   ]
  },
  {
   "cell_type": "code",
   "execution_count": null,
   "id": "168e8971",
   "metadata": {},
   "outputs": [],
   "source": [
    "import numpy as np\n",
    "import pandas as pd\n",
    "# import requests\n",
    "# import io"
   ]
  },
  {
   "cell_type": "code",
   "execution_count": null,
   "id": "efe53ff4",
   "metadata": {},
   "outputs": [],
   "source": [
    "# response = requests.get(\"https://github.com/Patcharanat/GrabSpark-Data-Analytics-for-Business-Use-Cases/blob/master/sample_a.csv\")\n",
    "# pd.read_csv(response.content)\n",
    "# pd.read_csv(io.StringIO(response.content.decode('utf-8')))\n",
    "\n",
    "# must use raw file\n",
    "# response = requests.get(\"https://raw.githubusercontent.com/Patcharanat/ecommerce-invoice/master/data/cleaned_data.csv\")\n",
    "# content = response.text\n",
    "# print(content)"
   ]
  },
  {
   "attachments": {},
   "cell_type": "markdown",
   "id": "0bb80183",
   "metadata": {},
   "source": [
    "## Data Cleaning"
   ]
  },
  {
   "cell_type": "code",
   "execution_count": null,
   "id": "a5fcefc3",
   "metadata": {},
   "outputs": [],
   "source": [
    "# df = pd.read_csv(\"./data/uncleaned_data.csv\", encoding='cp1252')\n",
    "# df = pd.read_csv(\"./data/uncleaned_data.csv\")\n",
    "# df = pd.read_csv(\"./data/data_url_uncleaned.csv\", low_memory=False)\n",
    "# df = pd.read_csv(\"./data/data_api_uncleaned.csv\", encoding='cp1252')\n",
    "# df = pd.read_csv(\"./data/data_postgres_cleaned.csv\", encoding='cp1252')\n",
    "# df = pd.read_csv(\"./data/data_postgres_cleaned.csv\")\n",
    "# df = pd.read_csv(\"./data/data_api_uncleaned.csv\")\n",
    "# df = pd.read_csv(\"https://raw.githubusercontent.com/Patcharanat/ecommerce-invoice/master/data/cleaned_data.csv\")\n",
    "df = pd.read_parquet(\"./data/ecomm_invoice_transaction.parquet\")\n",
    "df.head()"
   ]
  },
  {
   "cell_type": "code",
   "execution_count": null,
   "id": "a3279107",
   "metadata": {},
   "outputs": [],
   "source": [
    "df.info()"
   ]
  },
  {
   "cell_type": "code",
   "execution_count": null,
   "id": "6d935a90",
   "metadata": {},
   "outputs": [],
   "source": [
    "df.isnull().sum()"
   ]
  },
  {
   "cell_type": "code",
   "execution_count": null,
   "id": "b7bd861d",
   "metadata": {},
   "outputs": [],
   "source": [
    "df.loc[df['Description'].isnull()].head()\n",
    "# df.loc[df['Description'].isnull() & df['CustomerID'].isnull()]"
   ]
  },
  {
   "cell_type": "code",
   "execution_count": null,
   "id": "4767591c",
   "metadata": {},
   "outputs": [],
   "source": [
    "df.loc[df['CustomerID'].isnull()].head()"
   ]
  },
  {
   "cell_type": "code",
   "execution_count": null,
   "id": "1cb2600c",
   "metadata": {},
   "outputs": [],
   "source": [
    "df.loc[df['UnitPrice'] < 0]"
   ]
  },
  {
   "cell_type": "code",
   "execution_count": null,
   "id": "e4c108af",
   "metadata": {},
   "outputs": [],
   "source": [
    "df.loc[df['Quantity'] < 0].head(10)"
   ]
  },
  {
   "cell_type": "code",
   "execution_count": null,
   "id": "a12cd17f",
   "metadata": {},
   "outputs": [],
   "source": [
    "df.loc[df['StockCode'] == 'm']"
   ]
  },
  {
   "cell_type": "code",
   "execution_count": null,
   "id": "96988537",
   "metadata": {},
   "outputs": [],
   "source": [
    "df.loc[df['InvoiceNo'] == 'C536379']"
   ]
  },
  {
   "cell_type": "code",
   "execution_count": null,
   "id": "ca8acac3",
   "metadata": {},
   "outputs": [],
   "source": [
    "df.plot(kind='box')"
   ]
  },
  {
   "attachments": {},
   "cell_type": "markdown",
   "id": "a84d4e8c",
   "metadata": {},
   "source": [
    "### Fill NA"
   ]
  },
  {
   "cell_type": "code",
   "execution_count": null,
   "id": "142b8c42",
   "metadata": {},
   "outputs": [],
   "source": [
    "df_temp = df.copy()"
   ]
  },
  {
   "cell_type": "code",
   "execution_count": null,
   "id": "9009fa58",
   "metadata": {},
   "outputs": [],
   "source": [
    "df_temp['Description'] = df['Description'].fillna('No Description')"
   ]
  },
  {
   "cell_type": "code",
   "execution_count": null,
   "id": "aeebd6ab",
   "metadata": {},
   "outputs": [],
   "source": [
    "df_temp['CustomerID'] = df['CustomerID'].fillna(0)\n",
    "df_temp['CustomerID'] = df_temp['CustomerID'].astype(float).astype(int)"
   ]
  },
  {
   "cell_type": "code",
   "execution_count": null,
   "id": "3994312c",
   "metadata": {},
   "outputs": [],
   "source": [
    "df_temp['InvoiceDate'] = pd.to_datetime(df['InvoiceDate'])"
   ]
  },
  {
   "cell_type": "code",
   "execution_count": null,
   "id": "55ea9fde",
   "metadata": {},
   "outputs": [],
   "source": [
    "df_temp.isnull().sum()"
   ]
  },
  {
   "cell_type": "code",
   "execution_count": null,
   "id": "6f93a124",
   "metadata": {},
   "outputs": [],
   "source": [
    "df_temp.head()"
   ]
  },
  {
   "cell_type": "code",
   "execution_count": null,
   "id": "795d97da",
   "metadata": {},
   "outputs": [],
   "source": [
    "df_temp['InvoiceNo'] = df_temp['InvoiceNo'].astype(str)\n",
    "df_temp['StockCode'] = df_temp['StockCode'].astype(str)\n",
    "df_temp['Description'] = df_temp['Description'].astype(str)\n",
    "# df_temp['Quantity'] = df_temp['Quantity']\n",
    "# df_temp['InvoiceDate'] = df_temp['InvoiceDate']\n",
    "# df_temp['UnitPrice'] = df_temp['UnitPrice'].astype('float64')\n",
    "df_temp['Country'] = df_temp['Country'].astype(str)"
   ]
  },
  {
   "cell_type": "code",
   "execution_count": null,
   "id": "5c576a5e",
   "metadata": {},
   "outputs": [],
   "source": [
    "df_temp.info()"
   ]
  },
  {
   "cell_type": "code",
   "execution_count": null,
   "id": "aee95090",
   "metadata": {},
   "outputs": [],
   "source": [
    "# df_temp.to_csv(\"./data/cleaned_data.csv\", index=False)"
   ]
  },
  {
   "attachments": {},
   "cell_type": "markdown",
   "id": "88a7f1da",
   "metadata": {},
   "source": [
    "## EDA"
   ]
  },
  {
   "cell_type": "code",
   "execution_count": null,
   "id": "b9847659",
   "metadata": {},
   "outputs": [],
   "source": [
    "import numpy as np\n",
    "import pandas as pd\n",
    "import seaborn as sns\n",
    "import matplotlib.pyplot as plt\n",
    "# sns.set(style=\"dark\")\n",
    "plt.style.use(\"ggplot\")"
   ]
  },
  {
   "cell_type": "code",
   "execution_count": null,
   "id": "58edf20f",
   "metadata": {},
   "outputs": [],
   "source": [
    "df_temp = pd.read_csv(\"./data/cleaned_data.csv\")"
   ]
  },
  {
   "cell_type": "code",
   "execution_count": null,
   "id": "8365ee2c",
   "metadata": {},
   "outputs": [],
   "source": [
    "df_temp.info()"
   ]
  },
  {
   "cell_type": "code",
   "execution_count": null,
   "id": "8db122e3",
   "metadata": {},
   "outputs": [],
   "source": [
    "df_temp[\"total_spend\"] = df_temp[\"Quantity\"] * df_temp[\"UnitPrice\"]\n",
    "df_temp.head()"
   ]
  },
  {
   "cell_type": "code",
   "execution_count": null,
   "id": "2ab1c989",
   "metadata": {},
   "outputs": [],
   "source": [
    "x = df_temp.groupby(by=['InvoiceDate'])['total_spend'].sum().sort_index(ascending=True).index\n",
    "y = df_temp.groupby(by=['InvoiceDate'])['total_spend'].sum().sort_index(ascending=True).values"
   ]
  },
  {
   "cell_type": "code",
   "execution_count": null,
   "id": "a3a67891",
   "metadata": {},
   "outputs": [],
   "source": [
    "timeseries_data = pd.DataFrame({'invoice_date': x, 'total_spend': y})\n",
    "timeseries_data.head()"
   ]
  },
  {
   "cell_type": "code",
   "execution_count": null,
   "id": "49b0ee9c",
   "metadata": {},
   "outputs": [],
   "source": [
    "# sns.lineplot(x=x, y=y)\n",
    "# timeseries_data['invoice_date'] = \n",
    "# sample = timeseries_data.set_index('invoice_date')\n",
    "tick = ['2011-01', '2011-02', '2011-03', '2011-04', '2011-05', '2011-06', '2011-07', '2011-08', '2011-09', '2011-10', '2011-11', '2011-12']\n",
    "sample = timeseries_data.set_index(pd.to_datetime(timeseries_data['invoice_date'], format=\"%Y-%m-%d\"))\n",
    "sample.plot()\n",
    "plt.xticks(rotation=60)\n",
    "plt.xticks(tick)"
   ]
  },
  {
   "cell_type": "code",
   "execution_count": null,
   "id": "9009d6bc",
   "metadata": {},
   "outputs": [],
   "source": [
    "# sns.barplot(x='Description', y='total_spend', data=df_temp)"
   ]
  },
  {
   "cell_type": "code",
   "execution_count": null,
   "id": "f1f39bb1",
   "metadata": {},
   "outputs": [],
   "source": [
    "df_temp.groupby(['Description'])['total_spend'].sum().sort_values(ascending=False).head(10).plot(kind='barh')"
   ]
  },
  {
   "cell_type": "code",
   "execution_count": null,
   "id": "134d2512",
   "metadata": {},
   "outputs": [],
   "source": [
    "# print(str(df_temp.iloc[541904]['InvoiceDate']).split(\" \")[0])\n",
    "# print(pd.to_datetime(str(df_temp.iloc[541904]['InvoiceDate']).split(\" \")[0], format=\"%Y-%m-%d\"))\n",
    "\n",
    "# print(str(df_temp.iloc[541904]['InvoiceDate']).split(\" \")[1])\n",
    "# print(pd.to_datetime(str(df_temp.iloc[541904]['InvoiceDate']).split(\" \")[1], format=\"%H:%M:%S\"))\n",
    "\n",
    "# print(df_temp['InvoiceDate'].dt.hour)"
   ]
  },
  {
   "cell_type": "code",
   "execution_count": null,
   "id": "b3e8adce",
   "metadata": {},
   "outputs": [],
   "source": [
    "df_temp['hour'] = pd.to_datetime(df_temp['InvoiceDate']).dt.hour\n",
    "df_temp.head()"
   ]
  },
  {
   "cell_type": "code",
   "execution_count": null,
   "id": "51032c59",
   "metadata": {},
   "outputs": [],
   "source": [
    "df_temp.groupby('Country')[\"InvoiceNo\"].count().sort_values(ascending=False).head(20)"
   ]
  },
  {
   "cell_type": "code",
   "execution_count": null,
   "id": "f647bfc2",
   "metadata": {},
   "outputs": [],
   "source": [
    "df_temp.groupby('Country')[\"total_spend\"].sum().sort_values(ascending=False).head(20).sort_values(ascending=True).plot(kind='barh')"
   ]
  },
  {
   "cell_type": "code",
   "execution_count": null,
   "id": "6c8861e5",
   "metadata": {},
   "outputs": [],
   "source": [
    "df_temp['hour'].value_counts().sort_index().plot(kind='bar')"
   ]
  },
  {
   "cell_type": "code",
   "execution_count": null,
   "id": "8f20b3c9",
   "metadata": {},
   "outputs": [],
   "source": [
    "country = \"United Kingdom\"\n",
    "df_temp.loc[df_temp['Country'] == f\"{country}\"].groupby('hour')['total_spend'].sum().plot(kind='bar', color='darkblue')\n",
    "plt.title(f\"Total Spend by Hour in {country}\")"
   ]
  },
  {
   "cell_type": "code",
   "execution_count": null,
   "id": "a252dd50",
   "metadata": {},
   "outputs": [],
   "source": [
    "df_temp.describe()"
   ]
  },
  {
   "cell_type": "code",
   "execution_count": null,
   "id": "ab4f0186",
   "metadata": {},
   "outputs": [],
   "source": [
    "df_temp.loc[df_temp['Quantity'] >= 60_000]"
   ]
  },
  {
   "cell_type": "code",
   "execution_count": null,
   "id": "7acf2027",
   "metadata": {},
   "outputs": [],
   "source": [
    "df_temp.loc[df_temp['UnitPrice'] >= 30_000]"
   ]
  },
  {
   "cell_type": "code",
   "execution_count": null,
   "id": "f68c4295",
   "metadata": {},
   "outputs": [],
   "source": [
    "df_temp['StockCode'] = df_temp['StockCode'].str.upper()"
   ]
  },
  {
   "cell_type": "code",
   "execution_count": null,
   "id": "ee5235db",
   "metadata": {},
   "outputs": [],
   "source": [
    "df_temp[df_temp['StockCode'] == 'm']"
   ]
  },
  {
   "cell_type": "code",
   "execution_count": null,
   "id": "adc05086",
   "metadata": {},
   "outputs": [],
   "source": [
    "df_temp[df_temp['StockCode'] == 'M']"
   ]
  },
  {
   "cell_type": "code",
   "execution_count": null,
   "id": "acb1c6dd",
   "metadata": {},
   "outputs": [],
   "source": [
    "df_temp[df_temp['Description'] == 'Manual']['total_spend'].describe()"
   ]
  },
  {
   "cell_type": "code",
   "execution_count": null,
   "id": "1e381408",
   "metadata": {},
   "outputs": [],
   "source": [
    "df_temp['Description'].value_counts().tail(20)"
   ]
  },
  {
   "cell_type": "code",
   "execution_count": null,
   "id": "4ea0657b",
   "metadata": {},
   "outputs": [],
   "source": [
    "df_temp.loc[df_temp['Description'] == 'historic computer difference?....se']"
   ]
  },
  {
   "cell_type": "code",
   "execution_count": null,
   "id": "7b5719a2",
   "metadata": {},
   "outputs": [],
   "source": [
    "df_temp.loc[df_temp['StockCode'] == '84944']"
   ]
  },
  {
   "cell_type": "code",
   "execution_count": null,
   "id": "c390c246",
   "metadata": {},
   "outputs": [],
   "source": [
    "df_temp.loc[df_temp['Description'] == 'Missing']"
   ]
  },
  {
   "cell_type": "code",
   "execution_count": null,
   "id": "09a0296d",
   "metadata": {},
   "outputs": [],
   "source": [
    "df_temp.loc[df_temp['StockCode'] == '22458'].head()"
   ]
  },
  {
   "cell_type": "code",
   "execution_count": null,
   "id": "005440ee",
   "metadata": {},
   "outputs": [],
   "source": [
    "df_temp[df_temp['StockCode'].str.contains('90126')]"
   ]
  },
  {
   "cell_type": "code",
   "execution_count": null,
   "id": "fa5393b6",
   "metadata": {},
   "outputs": [],
   "source": [
    "df_temp[df_temp['StockCode'].apply(lambda x: len(x) < 5)]['StockCode'].value_counts()"
   ]
  },
  {
   "cell_type": "code",
   "execution_count": null,
   "id": "e06fa6ef",
   "metadata": {},
   "outputs": [],
   "source": [
    "df_temp[df_temp['StockCode'] == \"M\"]\n",
    "# df_temp[df_temp['StockCode'].str.contains('POST')]\n",
    "# df_temp[df_temp['InvoiceNo'].str.startswith('C')]\n",
    "# df_temp[df_temp['StockCode'].str.contains('DOT')]['StockCode'].value_counts()\n",
    "# df_temp[df_temp['StockCode'].str.contains('C2')]['Country'].value_counts()"
   ]
  },
  {
   "cell_type": "code",
   "execution_count": null,
   "id": "da9be5b3",
   "metadata": {},
   "outputs": [],
   "source": [
    "df_temp.groupby('StockCode')['Description'].value_counts().head(20)"
   ]
  },
  {
   "cell_type": "code",
   "execution_count": null,
   "id": "1c6351dc",
   "metadata": {},
   "outputs": [],
   "source": [
    "df_temp.columns"
   ]
  },
  {
   "cell_type": "code",
   "execution_count": null,
   "id": "3cdc90b8",
   "metadata": {},
   "outputs": [],
   "source": [
    "most_freq = df_temp.groupby('StockCode')['Description'].agg(lambda x: x.value_counts().idxmax()).reset_index()\n",
    "df = pd.merge(df_temp, most_freq, on='StockCode', how='left')\n",
    "df = df.drop(columns=['Description_x'])\n",
    "df = df.rename(columns={'Description_y': 'Description'})\n",
    "df = df.reindex(columns=['InvoiceNo', 'StockCode', 'Description', 'Quantity', 'InvoiceDate', 'UnitPrice', 'CustomerID', 'Country', 'total_spend', 'hour'])"
   ]
  },
  {
   "cell_type": "code",
   "execution_count": null,
   "id": "5cce8844",
   "metadata": {},
   "outputs": [],
   "source": [
    "df_temp.loc[df_temp['Description'] == 'damaged'].head()"
   ]
  },
  {
   "cell_type": "code",
   "execution_count": null,
   "id": "c9e89206",
   "metadata": {},
   "outputs": [],
   "source": [
    "df_temp.loc[df_temp['StockCode'].str.contains(\"10123\")]"
   ]
  },
  {
   "cell_type": "code",
   "execution_count": null,
   "id": "d0ed2307",
   "metadata": {},
   "outputs": [],
   "source": [
    "fig, ax = plt.subplots(1, 3, figsize=(10, 3))\n",
    "ax[0].scatter(x=df_temp['Quantity'], y=df_temp['UnitPrice'])\n",
    "ax[0].title.set_text('Quantity vs UnitPrice')\n",
    "ax[1].scatter(x=df_temp['Quantity'], y=df_temp['total_spend'])\n",
    "ax[1].title.set_text('Quantity vs total_spend')\n",
    "ax[2].scatter(x=df_temp['UnitPrice'], y=df_temp['total_spend'])\n",
    "ax[2].title.set_text('UnitPrice vs total_spend')"
   ]
  },
  {
   "attachments": {},
   "cell_type": "markdown",
   "id": "ba36a982",
   "metadata": {},
   "source": [
    "---"
   ]
  },
  {
   "cell_type": "code",
   "execution_count": null,
   "id": "8d49428c",
   "metadata": {},
   "outputs": [],
   "source": [
    "df = pd.read_csv(\"./data/uncleaned_data.csv\", encoding='cp1252')\n",
    "\n",
    "# Clean the data\n",
    "# df['Description'] = df['Description'].fillna('No Description')\n",
    "df['CustomerID'] = df['CustomerID'].fillna(0)\n",
    "df['InvoiceDate'] = pd.to_datetime(df['InvoiceDate'])\n",
    "df['total_spend'] = df['Quantity'] * df['UnitPrice']\n",
    "\n",
    "df['InvoiceNo'] = df['InvoiceNo'].astype(str)\n",
    "df['StockCode'] = df['StockCode'].astype(str)\n",
    "df['Description'] = df['Description'].astype(str)\n",
    "df['CustomerID'] = df['CustomerID'].astype(float).astype(int)\n",
    "df['Country'] = df['Country'].astype(str)\n",
    "df['total_spend'] = df['total_spend'].astype(float)\n",
    "\n",
    "df['StockCode'] = df['StockCode'].str.upper()\n",
    "most_freq = df.groupby('StockCode')['Description'].agg(lambda x: x.value_counts().idxmax()).reset_index()\n",
    "columns_index = df.columns\n",
    "df = df.drop(columns=['Description'])\n",
    "df = pd.merge(df, most_freq, on='StockCode', how='left')\n",
    "df = df.reindex(columns=columns_index)\n",
    "\n",
    "# Write the cleaned data to a new csv file\n",
    "# df.to_parquet(\"./data/cleaned_data.parquet\")\n",
    "df.to_parquet(\"./data/cleaned_data.csv\")"
   ]
  },
  {
   "attachments": {},
   "cell_type": "markdown",
   "id": "a4cb9748",
   "metadata": {},
   "source": [
    "---"
   ]
  }
 ],
 "metadata": {
  "kernelspec": {
   "display_name": "Python 3",
   "language": "python",
   "name": "python3"
  },
  "language_info": {
   "codemirror_mode": {
    "name": "ipython",
    "version": 3
   },
   "file_extension": ".py",
   "mimetype": "text/x-python",
   "name": "python",
   "nbconvert_exporter": "python",
   "pygments_lexer": "ipython3",
   "version": "3.10.6"
  }
 },
 "nbformat": 4,
 "nbformat_minor": 5
}
